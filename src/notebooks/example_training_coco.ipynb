{
 "cells": [
  {
   "cell_type": "markdown",
   "source": [
    "### MaskRCNN training. Common objects in context COCO dataset"
   ],
   "metadata": {}
  },
  {
   "cell_type": "code",
   "execution_count": null,
   "source": [
    "import os\n",
    "os.chdir('..')\n",
    "import tensorflow as tf\n",
    "\n",
    "from samples.plates import plates\n",
    "from preprocess import preprocess\n",
    "from preprocess import augmentation as aug\n",
    "from training import train_model\n",
    "from model import mask_rcnn_functional\n",
    "from common.utils import tf_limit_gpu_memory"
   ],
   "outputs": [],
   "metadata": {}
  },
  {
   "cell_type": "code",
   "execution_count": null,
   "source": [
    "%load_ext watermark\n",
    "%watermark\n",
    "%watermark --iversions"
   ],
   "outputs": [],
   "metadata": {}
  },
  {
   "cell_type": "code",
   "execution_count": null,
   "source": [
    "tf_limit_gpu_memory(tf, 7000)"
   ],
   "outputs": [],
   "metadata": {}
  },
  {
   "cell_type": "code",
   "execution_count": null,
   "source": [
    "from common.config import CONFIG"
   ],
   "outputs": [],
   "metadata": {}
  },
  {
   "cell_type": "code",
   "execution_count": null,
   "source": [
    "CONFIG.update(plates.COCO_CONFIG)\n",
    "CONFIG"
   ],
   "outputs": [],
   "metadata": {}
  },
  {
   "cell_type": "code",
   "execution_count": null,
   "source": [
    "model = mask_rcnn_functional(config=CONFIG)"
   ],
   "outputs": [],
   "metadata": {}
  },
  {
   "cell_type": "code",
   "execution_count": null,
   "source": [
    "CONFIG['training']"
   ],
   "outputs": [],
   "metadata": {}
  },
  {
   "cell_type": "code",
   "execution_count": null,
   "source": [
    "CONFIG['backbone']"
   ],
   "outputs": [],
   "metadata": {}
  },
  {
   "cell_type": "code",
   "execution_count": null,
   "source": [
    "base_dir = r'/mnt/data/cx-ir/patentes_aug'\n",
    "train_dir = base_dir\n",
    "val_dir = base_dir\n",
    "\n",
    "train_dataset = plates.PlateDataset(dataset_dir=train_dir,\n",
    "                                 subset='train',\n",
    "                                 # SegmentationDataset necessary parent attributes\n",
    "                                 augmentation=aug.get_training_augmentation(\n",
    "                                               image_size=CONFIG['img_size'],\n",
    "                                               normalize=CONFIG['normalization']\n",
    "                                 ),\n",
    "                                 **CONFIG\n",
    "                                )\n",
    "\n",
    "val_dataset = plates.PlateDataset(dataset_dir=val_dir,\n",
    "                               subset='valid',\n",
    "                               # SegmentationDataset necessary parent attributes\n",
    "                               augmentation=aug.get_validation_augmentation(\n",
    "                                           image_size=CONFIG['img_size'],\n",
    "                                           normalize=CONFIG['normalization']\n",
    "                               ),\n",
    "                               **CONFIG\n",
    "                              )\n",
    "\n",
    "train_dataloader = preprocess.DataLoader(train_dataset,\n",
    "                                         shuffle=True,\n",
    "                                         name='train',\n",
    "                                         **CONFIG\n",
    "                                        )\n",
    "val_dataloader = preprocess.DataLoader(val_dataset,\n",
    "                                       shuffle=False,\n",
    "                                       name='val',\n",
    "                                       **CONFIG\n",
    "                                      )"
   ],
   "outputs": [],
   "metadata": {}
  },
  {
   "cell_type": "code",
   "execution_count": null,
   "source": [
    "train_model(model, \r\n",
    "            train_dataset=train_dataset,\r\n",
    "            val_dataset=val_dataset,\r\n",
    "            config=CONFIG, \r\n",
    "            weights_path=None)"
   ],
   "outputs": [],
   "metadata": {
    "scrolled": false
   }
  },
  {
   "cell_type": "code",
   "execution_count": null,
   "source": [],
   "outputs": [],
   "metadata": {}
  }
 ],
 "metadata": {
  "kernelspec": {
   "name": "python3",
   "display_name": "Python 3.7.5 64-bit"
  },
  "language_info": {
   "codemirror_mode": {
    "name": "ipython",
    "version": 3
   },
   "file_extension": ".py",
   "mimetype": "text/x-python",
   "name": "python",
   "nbconvert_exporter": "python",
   "pygments_lexer": "ipython3",
   "version": "3.7.5"
  },
  "interpreter": {
   "hash": "0600588c3b5f4418cbe7b5ebc6825b479f3bc010269d8b60d75058cdd010adfe"
  }
 },
 "nbformat": 4,
 "nbformat_minor": 4
}